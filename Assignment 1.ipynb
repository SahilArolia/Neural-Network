{
 "cells": [
  {
   "cell_type": "code",
   "execution_count": null,
   "id": "ea48949b",
   "metadata": {},
   "outputs": [],
   "source": [
    "import tensorflow as tf\n",
    "\"\"\"\n",
    "(1)TensorFlow is an open source library for numerical computation and large-scale machine learning. \n",
    "   It uses Python or JavaScript to provide a convenient front-end API for building applications, while executing those \n",
    "   applications in high-performance C++.\n",
    "(2)TensorFlow, which competes with frameworks such as PyTorch and Apache MXNet, can train and run deep neural networks for\n",
    "   handwritten digit classification, image recognition, word embeddings, recurrent neural networks, sequence-to-sequence models \n",
    "   for machine translation, natural language processing, and PDE (partial differential equation)-based simulations. \n",
    "(3)TensorFlow allows developers to create dataflow graphs—structures that describe how data moves through a graph, or a series \n",
    "   of processing nodes.\n",
    "\"\"\""
   ]
  },
  {
   "cell_type": "code",
   "execution_count": null,
   "id": "ffd9da72",
   "metadata": {},
   "outputs": [],
   "source": [
    "import pandas as pd\n",
    "\"\"\"\n",
    "(1)Pandas is a Python library used for working with data sets.\n",
    "(2)It has functions for analyzing, cleaning, exploring, and manipulating data.\n",
    "(3)Pandas allows us to analyze big data and make conclusions based on statistical theories.\n",
    "(4)Pandas can clean messy data sets, and make them readable and relevant.\n",
    "(5)Relevant data is very important in data science.\n",
    "\"\"\""
   ]
  },
  {
   "cell_type": "code",
   "execution_count": null,
   "id": "f76697e7",
   "metadata": {},
   "outputs": [],
   "source": [
    "import numpy as np\n",
    "\"\"\"\n",
    "(1)NumPy is a Python library used for working with arrays. It also has functions for working in domain of linear algebra, \n",
    "   fourier transform, and matrices.\n",
    "(2)NumPy stands for Numerical Python. NumPy aims to provide an array object that is up to 50x faster than traditional Python lists.\n",
    "(3)The array object in NumPy is called ndarray, it provides a lot of supporting functions that make working with ndarray very easy.\n",
    "(4)Arrays are very frequently used in data science, where speed and resources are very important. \n",
    "\"\"\""
   ]
  },
  {
   "cell_type": "code",
   "execution_count": null,
   "id": "0efa4649",
   "metadata": {},
   "outputs": [],
   "source": [
    "import keras\n",
    "\"\"\"\n",
    "(1)Keras is an Open Source Neural Network library written in Python that runs on top of Theano or Tensorflow.\n",
    "(2)Keras is high-level API wrapper for the low-level API, capable of running on top of TensorFlow, CNTK, or Theano. \n",
    "(3)Keras High-Level API handles the way we make models, defining layers, or set up multiple input-output models.\n",
    "\"\"\""
   ]
  },
  {
   "cell_type": "code",
   "execution_count": null,
   "id": "28e5fdc4",
   "metadata": {},
   "outputs": [],
   "source": [
    "import glob\n",
    "\"\"\"\n",
    "(1)The glob() function searches for all the pathnames matching pattern according to the rules used by the libc glob() function.\n",
    "(2)The glob module, which is short for global, is a function that’s used to search for files that match a specific file pattern or name.\n",
    "(3)It can be used to search CSV files and for text in files. \n",
    "\"\"\""
   ]
  }
 ],
 "metadata": {
  "kernelspec": {
   "display_name": "Python 3 (ipykernel)",
   "language": "python",
   "name": "python3"
  },
  "language_info": {
   "codemirror_mode": {
    "name": "ipython",
    "version": 3
   },
   "file_extension": ".py",
   "mimetype": "text/x-python",
   "name": "python",
   "nbconvert_exporter": "python",
   "pygments_lexer": "ipython3",
   "version": "3.11.3"
  }
 },
 "nbformat": 4,
 "nbformat_minor": 5
}
